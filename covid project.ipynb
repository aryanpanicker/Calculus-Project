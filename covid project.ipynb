{
 "cells": [
  {
   "cell_type": "code",
   "execution_count": 2,
   "id": "d638ffd0",
   "metadata": {},
   "outputs": [],
   "source": [
    "import pandas as pd\n",
    "import numpy as np\n",
    "import matplotlib.pyplot as plt\n",
    "%matplotlib inline"
   ]
  },
  {
   "cell_type": "code",
   "execution_count": 11,
   "id": "5d762df0",
   "metadata": {},
   "outputs": [
    {
     "data": {
      "text/html": [
       "<div>\n",
       "<style scoped>\n",
       "    .dataframe tbody tr th:only-of-type {\n",
       "        vertical-align: middle;\n",
       "    }\n",
       "\n",
       "    .dataframe tbody tr th {\n",
       "        vertical-align: top;\n",
       "    }\n",
       "\n",
       "    .dataframe thead th {\n",
       "        text-align: right;\n",
       "    }\n",
       "</style>\n",
       "<table border=\"1\" class=\"dataframe\">\n",
       "  <thead>\n",
       "    <tr style=\"text-align: right;\">\n",
       "      <th></th>\n",
       "      <th>iso_code</th>\n",
       "      <th>continent</th>\n",
       "      <th>location</th>\n",
       "      <th>Number of Days from First case</th>\n",
       "      <th>date</th>\n",
       "      <th>total_cases</th>\n",
       "      <th>new_cases</th>\n",
       "      <th>total_deaths</th>\n",
       "      <th>new_deaths</th>\n",
       "    </tr>\n",
       "  </thead>\n",
       "  <tbody>\n",
       "    <tr>\n",
       "      <th>697</th>\n",
       "      <td>IND</td>\n",
       "      <td>Asia</td>\n",
       "      <td>India</td>\n",
       "      <td>698</td>\n",
       "      <td>2021-12-27</td>\n",
       "      <td>34799691</td>\n",
       "      <td>6358</td>\n",
       "      <td>480290</td>\n",
       "      <td>293.0</td>\n",
       "    </tr>\n",
       "    <tr>\n",
       "      <th>698</th>\n",
       "      <td>IND</td>\n",
       "      <td>Asia</td>\n",
       "      <td>India</td>\n",
       "      <td>699</td>\n",
       "      <td>2021-12-28</td>\n",
       "      <td>34808886</td>\n",
       "      <td>9195</td>\n",
       "      <td>480592</td>\n",
       "      <td>302.0</td>\n",
       "    </tr>\n",
       "    <tr>\n",
       "      <th>699</th>\n",
       "      <td>IND</td>\n",
       "      <td>Asia</td>\n",
       "      <td>India</td>\n",
       "      <td>700</td>\n",
       "      <td>2021-12-29</td>\n",
       "      <td>34822040</td>\n",
       "      <td>13154</td>\n",
       "      <td>480860</td>\n",
       "      <td>268.0</td>\n",
       "    </tr>\n",
       "    <tr>\n",
       "      <th>700</th>\n",
       "      <td>IND</td>\n",
       "      <td>Asia</td>\n",
       "      <td>India</td>\n",
       "      <td>701</td>\n",
       "      <td>2021-12-30</td>\n",
       "      <td>34838804</td>\n",
       "      <td>16764</td>\n",
       "      <td>481080</td>\n",
       "      <td>220.0</td>\n",
       "    </tr>\n",
       "    <tr>\n",
       "      <th>701</th>\n",
       "      <td>IND</td>\n",
       "      <td>Asia</td>\n",
       "      <td>India</td>\n",
       "      <td>702</td>\n",
       "      <td>2021-12-31</td>\n",
       "      <td>34861579</td>\n",
       "      <td>22775</td>\n",
       "      <td>481486</td>\n",
       "      <td>406.0</td>\n",
       "    </tr>\n",
       "  </tbody>\n",
       "</table>\n",
       "</div>"
      ],
      "text/plain": [
       "    iso_code continent location  Number of Days from First case       date  \\\n",
       "697      IND      Asia    India                             698 2021-12-27   \n",
       "698      IND      Asia    India                             699 2021-12-28   \n",
       "699      IND      Asia    India                             700 2021-12-29   \n",
       "700      IND      Asia    India                             701 2021-12-30   \n",
       "701      IND      Asia    India                             702 2021-12-31   \n",
       "\n",
       "     total_cases  new_cases  total_deaths  new_deaths  \n",
       "697     34799691       6358        480290       293.0  \n",
       "698     34808886       9195        480592       302.0  \n",
       "699     34822040      13154        480860       268.0  \n",
       "700     34838804      16764        481080       220.0  \n",
       "701     34861579      22775        481486       406.0  "
      ]
     },
     "execution_count": 11,
     "metadata": {},
     "output_type": "execute_result"
    }
   ],
   "source": [
    "data=pd.read_excel(\"india covid data train.xlsx\")\n",
    "data.tail()"
   ]
  },
  {
   "cell_type": "code",
   "execution_count": 5,
   "id": "707592a2",
   "metadata": {},
   "outputs": [
    {
     "data": {
      "text/html": [
       "<div>\n",
       "<style scoped>\n",
       "    .dataframe tbody tr th:only-of-type {\n",
       "        vertical-align: middle;\n",
       "    }\n",
       "\n",
       "    .dataframe tbody tr th {\n",
       "        vertical-align: top;\n",
       "    }\n",
       "\n",
       "    .dataframe thead th {\n",
       "        text-align: right;\n",
       "    }\n",
       "</style>\n",
       "<table border=\"1\" class=\"dataframe\">\n",
       "  <thead>\n",
       "    <tr style=\"text-align: right;\">\n",
       "      <th></th>\n",
       "      <th>Number of Days from First case</th>\n",
       "      <th>total_cases</th>\n",
       "      <th>new_cases</th>\n",
       "      <th>total_deaths</th>\n",
       "      <th>new_deaths</th>\n",
       "    </tr>\n",
       "  </thead>\n",
       "  <tbody>\n",
       "    <tr>\n",
       "      <th>count</th>\n",
       "      <td>702.000000</td>\n",
       "      <td>7.020000e+02</td>\n",
       "      <td>702.000000</td>\n",
       "      <td>702.000000</td>\n",
       "      <td>700.000000</td>\n",
       "    </tr>\n",
       "    <tr>\n",
       "      <th>mean</th>\n",
       "      <td>351.500000</td>\n",
       "      <td>1.467145e+07</td>\n",
       "      <td>49660.368946</td>\n",
       "      <td>197370.715100</td>\n",
       "      <td>677.304286</td>\n",
       "    </tr>\n",
       "    <tr>\n",
       "      <th>std</th>\n",
       "      <td>202.794231</td>\n",
       "      <td>1.332211e+07</td>\n",
       "      <td>75949.115832</td>\n",
       "      <td>173518.394183</td>\n",
       "      <td>920.705303</td>\n",
       "    </tr>\n",
       "    <tr>\n",
       "      <th>min</th>\n",
       "      <td>1.000000</td>\n",
       "      <td>1.000000e+00</td>\n",
       "      <td>0.000000</td>\n",
       "      <td>0.000000</td>\n",
       "      <td>0.000000</td>\n",
       "    </tr>\n",
       "    <tr>\n",
       "      <th>25%</th>\n",
       "      <td>176.250000</td>\n",
       "      <td>1.300337e+06</td>\n",
       "      <td>10247.250000</td>\n",
       "      <td>30790.250000</td>\n",
       "      <td>158.250000</td>\n",
       "    </tr>\n",
       "    <tr>\n",
       "      <th>50%</th>\n",
       "      <td>351.500000</td>\n",
       "      <td>1.053526e+07</td>\n",
       "      <td>26336.500000</td>\n",
       "      <td>152005.500000</td>\n",
       "      <td>391.500000</td>\n",
       "    </tr>\n",
       "    <tr>\n",
       "      <th>75%</th>\n",
       "      <td>526.750000</td>\n",
       "      <td>3.078502e+07</td>\n",
       "      <td>51649.250000</td>\n",
       "      <td>406843.500000</td>\n",
       "      <td>758.250000</td>\n",
       "    </tr>\n",
       "    <tr>\n",
       "      <th>max</th>\n",
       "      <td>702.000000</td>\n",
       "      <td>3.486158e+07</td>\n",
       "      <td>414188.000000</td>\n",
       "      <td>481486.000000</td>\n",
       "      <td>4529.000000</td>\n",
       "    </tr>\n",
       "  </tbody>\n",
       "</table>\n",
       "</div>"
      ],
      "text/plain": [
       "       Number of Days from First case   total_cases      new_cases  \\\n",
       "count                      702.000000  7.020000e+02     702.000000   \n",
       "mean                       351.500000  1.467145e+07   49660.368946   \n",
       "std                        202.794231  1.332211e+07   75949.115832   \n",
       "min                          1.000000  1.000000e+00       0.000000   \n",
       "25%                        176.250000  1.300337e+06   10247.250000   \n",
       "50%                        351.500000  1.053526e+07   26336.500000   \n",
       "75%                        526.750000  3.078502e+07   51649.250000   \n",
       "max                        702.000000  3.486158e+07  414188.000000   \n",
       "\n",
       "        total_deaths   new_deaths  \n",
       "count     702.000000   700.000000  \n",
       "mean   197370.715100   677.304286  \n",
       "std    173518.394183   920.705303  \n",
       "min         0.000000     0.000000  \n",
       "25%     30790.250000   158.250000  \n",
       "50%    152005.500000   391.500000  \n",
       "75%    406843.500000   758.250000  \n",
       "max    481486.000000  4529.000000  "
      ]
     },
     "execution_count": 5,
     "metadata": {},
     "output_type": "execute_result"
    }
   ],
   "source": [
    "data.describe()"
   ]
  },
  {
   "cell_type": "code",
   "execution_count": 9,
   "id": "6811afd4",
   "metadata": {},
   "outputs": [
    {
     "name": "stdout",
     "output_type": "stream",
     "text": [
      "<class 'pandas.core.frame.DataFrame'>\n",
      "RangeIndex: 702 entries, 0 to 701\n",
      "Data columns (total 9 columns):\n",
      " #   Column                          Non-Null Count  Dtype         \n",
      "---  ------                          --------------  -----         \n",
      " 0   iso_code                        702 non-null    object        \n",
      " 1   continent                       702 non-null    object        \n",
      " 2   location                        702 non-null    object        \n",
      " 3   Number of Days from First case  702 non-null    int64         \n",
      " 4   date                            702 non-null    datetime64[ns]\n",
      " 5   total_cases                     702 non-null    int64         \n",
      " 6   new_cases                       702 non-null    int64         \n",
      " 7   total_deaths                    702 non-null    int64         \n",
      " 8   new_deaths                      700 non-null    float64       \n",
      "dtypes: datetime64[ns](1), float64(1), int64(4), object(3)\n",
      "memory usage: 49.5+ KB\n"
     ]
    }
   ],
   "source": [
    "data.info()"
   ]
  },
  {
   "cell_type": "code",
   "execution_count": 4,
   "id": "a1b2a402",
   "metadata": {},
   "outputs": [
    {
     "data": {
      "text/plain": [
       "[<matplotlib.lines.Line2D at 0x221320c4730>]"
      ]
     },
     "execution_count": 4,
     "metadata": {},
     "output_type": "execute_result"
    },
    {
     "data": {
      "image/png": "[encoded data removed]",
      "text/plain": [
       "<Figure size 432x288 with 1 Axes>"
      ]
     },
     "metadata": {
      "needs_background": "light"
     },
     "output_type": "display_data"
    }
   ],
   "source": [
    "plt.plot(data['Number of Days from First case'],data['total_cases'])"
   ]
  },
  {
   "cell_type": "code",
   "execution_count": 7,
   "id": "72cd5329",
   "metadata": {},
   "outputs": [
    {
     "data": {
      "text/plain": [
       "[<matplotlib.lines.Line2D at 0x28540210070>]"
      ]
     },
     "execution_count": 7,
     "metadata": {},
     "output_type": "execute_result"
    },
    {
     "data": {
      "image/png": "[encoded data removed]",
      "text/plain": [
       "<Figure size 432x288 with 1 Axes>"
      ]
     },
     "metadata": {
      "needs_background": "light"
     },
     "output_type": "display_data"
    }
   ],
   "source": [
    "plt.plot(data['Number of Days from First case'],data['new_cases'])"
   ]
  },
  {
   "cell_type": "code",
   "execution_count": 8,
   "id": "b6d754e3",
   "metadata": {},
   "outputs": [
    {
     "data": {
      "text/plain": [
       "[<matplotlib.lines.Line2D at 0x2854027bf70>]"
      ]
     },
     "execution_count": 8,
     "metadata": {},
     "output_type": "execute_result"
    },
    {
     "data": {
      "image/png": "[encoded data removed]",
      "text/plain": [
       "<Figure size 432x288 with 1 Axes>"
      ]
     },
     "metadata": {
      "needs_background": "light"
     },
     "output_type": "display_data"
    }
   ],
   "source": [
    "plt.plot(data['Number of Days from First case'],data['total_deaths'])"
   ]
  },
  {
   "cell_type": "code",
   "execution_count": 9,
   "id": "9e8ce82d",
   "metadata": {},
   "outputs": [
    {
     "data": {
      "text/plain": [
       "[<matplotlib.lines.Line2D at 0x285402d6dc0>]"
      ]
     },
     "execution_count": 9,
     "metadata": {},
     "output_type": "execute_result"
    },
    {
     "data": {
      "image/png": "[encoded data removed]",
      "text/plain": [
       "<Figure size 432x288 with 1 Axes>"
      ]
     },
     "metadata": {
      "needs_background": "light"
     },
     "output_type": "display_data"
    }
   ],
   "source": [
    "plt.plot(data['Number of Days from First case'],data['new_deaths'])"
   ]
  },
  {
   "cell_type": "code",
   "execution_count": 10,
   "id": "db633845",
   "metadata": {},
   "outputs": [
    {
     "data": {
      "text/html": [
       "<div>\n",
       "<style scoped>\n",
       "    .dataframe tbody tr th:only-of-type {\n",
       "        vertical-align: middle;\n",
       "    }\n",
       "\n",
       "    .dataframe tbody tr th {\n",
       "        vertical-align: top;\n",
       "    }\n",
       "\n",
       "    .dataframe thead th {\n",
       "        text-align: right;\n",
       "    }\n",
       "</style>\n",
       "<table border=\"1\" class=\"dataframe\">\n",
       "  <thead>\n",
       "    <tr style=\"text-align: right;\">\n",
       "      <th></th>\n",
       "      <th>Number of Days from First case</th>\n",
       "      <th>total_cases</th>\n",
       "      <th>new_cases</th>\n",
       "      <th>total_deaths</th>\n",
       "      <th>new_deaths</th>\n",
       "    </tr>\n",
       "  </thead>\n",
       "  <tbody>\n",
       "    <tr>\n",
       "      <th>count</th>\n",
       "      <td>702.000000</td>\n",
       "      <td>7.020000e+02</td>\n",
       "      <td>702.000000</td>\n",
       "      <td>702.000000</td>\n",
       "      <td>700.000000</td>\n",
       "    </tr>\n",
       "    <tr>\n",
       "      <th>mean</th>\n",
       "      <td>351.500000</td>\n",
       "      <td>1.467145e+07</td>\n",
       "      <td>49660.368946</td>\n",
       "      <td>197370.715100</td>\n",
       "      <td>677.304286</td>\n",
       "    </tr>\n",
       "    <tr>\n",
       "      <th>std</th>\n",
       "      <td>202.794231</td>\n",
       "      <td>1.332211e+07</td>\n",
       "      <td>75949.115832</td>\n",
       "      <td>173518.394183</td>\n",
       "      <td>920.705303</td>\n",
       "    </tr>\n",
       "    <tr>\n",
       "      <th>min</th>\n",
       "      <td>1.000000</td>\n",
       "      <td>1.000000e+00</td>\n",
       "      <td>0.000000</td>\n",
       "      <td>0.000000</td>\n",
       "      <td>0.000000</td>\n",
       "    </tr>\n",
       "    <tr>\n",
       "      <th>25%</th>\n",
       "      <td>176.250000</td>\n",
       "      <td>1.300337e+06</td>\n",
       "      <td>10247.250000</td>\n",
       "      <td>30790.250000</td>\n",
       "      <td>158.250000</td>\n",
       "    </tr>\n",
       "    <tr>\n",
       "      <th>50%</th>\n",
       "      <td>351.500000</td>\n",
       "      <td>1.053526e+07</td>\n",
       "      <td>26336.500000</td>\n",
       "      <td>152005.500000</td>\n",
       "      <td>391.500000</td>\n",
       "    </tr>\n",
       "    <tr>\n",
       "      <th>75%</th>\n",
       "      <td>526.750000</td>\n",
       "      <td>3.078502e+07</td>\n",
       "      <td>51649.250000</td>\n",
       "      <td>406843.500000</td>\n",
       "      <td>758.250000</td>\n",
       "    </tr>\n",
       "    <tr>\n",
       "      <th>max</th>\n",
       "      <td>702.000000</td>\n",
       "      <td>3.486158e+07</td>\n",
       "      <td>414188.000000</td>\n",
       "      <td>481486.000000</td>\n",
       "      <td>4529.000000</td>\n",
       "    </tr>\n",
       "  </tbody>\n",
       "</table>\n",
       "</div>"
      ],
      "text/plain": [
       "       Number of Days from First case   total_cases      new_cases  \\\n",
       "count                      702.000000  7.020000e+02     702.000000   \n",
       "mean                       351.500000  1.467145e+07   49660.368946   \n",
       "std                        202.794231  1.332211e+07   75949.115832   \n",
       "min                          1.000000  1.000000e+00       0.000000   \n",
       "25%                        176.250000  1.300337e+06   10247.250000   \n",
       "50%                        351.500000  1.053526e+07   26336.500000   \n",
       "75%                        526.750000  3.078502e+07   51649.250000   \n",
       "max                        702.000000  3.486158e+07  414188.000000   \n",
       "\n",
       "        total_deaths   new_deaths  \n",
       "count     702.000000   700.000000  \n",
       "mean   197370.715100   677.304286  \n",
       "std    173518.394183   920.705303  \n",
       "min         0.000000     0.000000  \n",
       "25%     30790.250000   158.250000  \n",
       "50%    152005.500000   391.500000  \n",
       "75%    406843.500000   758.250000  \n",
       "max    481486.000000  4529.000000  "
      ]
     },
     "execution_count": 10,
     "metadata": {},
     "output_type": "execute_result"
    }
   ],
   "source": [
    "data.describe()"
   ]
  },
  {
   "cell_type": "code",
   "execution_count": 11,
   "id": "5b357675",
   "metadata": {},
   "outputs": [
    {
     "data": {
      "text/html": [
       "<style type=\"text/css\">\n",
       "#T_3bc6c_row0_col0, #T_3bc6c_row1_col1, #T_3bc6c_row2_col2, #T_3bc6c_row3_col3, #T_3bc6c_row4_col4 {\n",
       "  background-color: #00441b;\n",
       "  color: #f1f1f1;\n",
       "}\n",
       "#T_3bc6c_row0_col1, #T_3bc6c_row1_col0 {\n",
       "  background-color: #005321;\n",
       "  color: #f1f1f1;\n",
       "}\n",
       "#T_3bc6c_row0_col2, #T_3bc6c_row4_col3 {\n",
       "  background-color: #e7f6e3;\n",
       "  color: #000000;\n",
       "}\n",
       "#T_3bc6c_row0_col3 {\n",
       "  background-color: #005120;\n",
       "  color: #f1f1f1;\n",
       "}\n",
       "#T_3bc6c_row0_col4, #T_3bc6c_row4_col0 {\n",
       "  background-color: #eff9ec;\n",
       "  color: #000000;\n",
       "}\n",
       "#T_3bc6c_row1_col2 {\n",
       "  background-color: #edf8ea;\n",
       "  color: #000000;\n",
       "}\n",
       "#T_3bc6c_row1_col3, #T_3bc6c_row3_col1 {\n",
       "  background-color: #00451c;\n",
       "  color: #f1f1f1;\n",
       "}\n",
       "#T_3bc6c_row1_col4 {\n",
       "  background-color: #ecf8e8;\n",
       "  color: #000000;\n",
       "}\n",
       "#T_3bc6c_row2_col0, #T_3bc6c_row2_col1, #T_3bc6c_row2_col3, #T_3bc6c_row3_col2, #T_3bc6c_row3_col4 {\n",
       "  background-color: #f7fcf5;\n",
       "  color: #000000;\n",
       "}\n",
       "#T_3bc6c_row2_col4 {\n",
       "  background-color: #0d7836;\n",
       "  color: #f1f1f1;\n",
       "}\n",
       "#T_3bc6c_row3_col0 {\n",
       "  background-color: #005221;\n",
       "  color: #f1f1f1;\n",
       "}\n",
       "#T_3bc6c_row4_col1 {\n",
       "  background-color: #e5f5e1;\n",
       "  color: #000000;\n",
       "}\n",
       "#T_3bc6c_row4_col2 {\n",
       "  background-color: #087432;\n",
       "  color: #f1f1f1;\n",
       "}\n",
       "</style>\n",
       "<table id=\"T_3bc6c_\">\n",
       "  <thead>\n",
       "    <tr>\n",
       "      <th class=\"blank level0\" >&nbsp;</th>\n",
       "      <th class=\"col_heading level0 col0\" >Number of Days from First case</th>\n",
       "      <th class=\"col_heading level0 col1\" >total_cases</th>\n",
       "      <th class=\"col_heading level0 col2\" >new_cases</th>\n",
       "      <th class=\"col_heading level0 col3\" >total_deaths</th>\n",
       "      <th class=\"col_heading level0 col4\" >new_deaths</th>\n",
       "    </tr>\n",
       "  </thead>\n",
       "  <tbody>\n",
       "    <tr>\n",
       "      <th id=\"T_3bc6c_level0_row0\" class=\"row_heading level0 row0\" >Number of Days from First case</th>\n",
       "      <td id=\"T_3bc6c_row0_col0\" class=\"data row0 col0\" >1.000000</td>\n",
       "      <td id=\"T_3bc6c_row0_col1\" class=\"data row0 col1\" >0.958914</td>\n",
       "      <td id=\"T_3bc6c_row0_col2\" class=\"data row0 col2\" >0.181024</td>\n",
       "      <td id=\"T_3bc6c_row0_col3\" class=\"data row0 col3\" >0.962529</td>\n",
       "      <td id=\"T_3bc6c_row0_col4\" class=\"data row0 col4\" >0.226175</td>\n",
       "    </tr>\n",
       "    <tr>\n",
       "      <th id=\"T_3bc6c_level0_row1\" class=\"row_heading level0 row1\" >total_cases</th>\n",
       "      <td id=\"T_3bc6c_row1_col0\" class=\"data row1 col0\" >0.958914</td>\n",
       "      <td id=\"T_3bc6c_row1_col1\" class=\"data row1 col1\" >1.000000</td>\n",
       "      <td id=\"T_3bc6c_row1_col2\" class=\"data row1 col2\" >0.139696</td>\n",
       "      <td id=\"T_3bc6c_row1_col3\" class=\"data row1 col3\" >0.996364</td>\n",
       "      <td id=\"T_3bc6c_row1_col4\" class=\"data row1 col4\" >0.244199</td>\n",
       "    </tr>\n",
       "    <tr>\n",
       "      <th id=\"T_3bc6c_level0_row2\" class=\"row_heading level0 row2\" >new_cases</th>\n",
       "      <td id=\"T_3bc6c_row2_col0\" class=\"data row2 col0\" >0.181024</td>\n",
       "      <td id=\"T_3bc6c_row2_col1\" class=\"data row2 col1\" >0.139696</td>\n",
       "      <td id=\"T_3bc6c_row2_col2\" class=\"data row2 col2\" >1.000000</td>\n",
       "      <td id=\"T_3bc6c_row2_col3\" class=\"data row2 col3\" >0.076416</td>\n",
       "      <td id=\"T_3bc6c_row2_col4\" class=\"data row2 col4\" >0.857006</td>\n",
       "    </tr>\n",
       "    <tr>\n",
       "      <th id=\"T_3bc6c_level0_row3\" class=\"row_heading level0 row3\" >total_deaths</th>\n",
       "      <td id=\"T_3bc6c_row3_col0\" class=\"data row3 col0\" >0.962529</td>\n",
       "      <td id=\"T_3bc6c_row3_col1\" class=\"data row3 col1\" >0.996364</td>\n",
       "      <td id=\"T_3bc6c_row3_col2\" class=\"data row3 col2\" >0.076416</td>\n",
       "      <td id=\"T_3bc6c_row3_col3\" class=\"data row3 col3\" >1.000000</td>\n",
       "      <td id=\"T_3bc6c_row3_col4\" class=\"data row3 col4\" >0.180230</td>\n",
       "    </tr>\n",
       "    <tr>\n",
       "      <th id=\"T_3bc6c_level0_row4\" class=\"row_heading level0 row4\" >new_deaths</th>\n",
       "      <td id=\"T_3bc6c_row4_col0\" class=\"data row4 col0\" >0.226175</td>\n",
       "      <td id=\"T_3bc6c_row4_col1\" class=\"data row4 col1\" >0.244199</td>\n",
       "      <td id=\"T_3bc6c_row4_col2\" class=\"data row4 col2\" >0.857006</td>\n",
       "      <td id=\"T_3bc6c_row4_col3\" class=\"data row4 col3\" >0.180230</td>\n",
       "      <td id=\"T_3bc6c_row4_col4\" class=\"data row4 col4\" >1.000000</td>\n",
       "    </tr>\n",
       "  </tbody>\n",
       "</table>\n"
      ],
      "text/plain": [
       "<pandas.io.formats.style.Styler at 0x28540308a60>"
      ]
     },
     "execution_count": 11,
     "metadata": {},
     "output_type": "execute_result"
    }
   ],
   "source": [
    "corr=data.corr()\n",
    "corr.style.background_gradient(cmap='Greens')"
   ]
  },
  {
   "cell_type": "code",
   "execution_count": 12,
   "id": "3a4ded1a",
   "metadata": {},
   "outputs": [],
   "source": [
    "X=data[['Number of Days from First case','total_deaths']].values\n",
    "y=data['total_cases'].values"
   ]
  },
  {
   "cell_type": "code",
   "execution_count": 13,
   "id": "d1e7191f",
   "metadata": {},
   "outputs": [],
   "source": [
    "from sklearn.linear_model import LinearRegression\n",
    "from sklearn.model_selection import train_test_split"
   ]
  },
  {
   "cell_type": "code",
   "execution_count": 34,
   "id": "bf75d40a",
   "metadata": {},
   "outputs": [],
   "source": [
    "x_train, x_test, y_train, y_test = train_test_split(X,y, train_size = .75, test_size=0.25,random_state=7)\n",
    "#x_train, y_train\n",
    "#x_train = x_train.reshape(-1,1)\n",
    "#x_test = x_test.reshape(-1,1)"
   ]
  },
  {
   "cell_type": "code",
   "execution_count": 35,
   "id": "fe80515d",
   "metadata": {},
   "outputs": [],
   "source": [
    "model=LinearRegression()"
   ]
  },
  {
   "cell_type": "code",
   "execution_count": 36,
   "id": "cb443c73",
   "metadata": {},
   "outputs": [
    {
     "data": {
      "text/plain": [
       "LinearRegression()"
      ]
     },
     "execution_count": 36,
     "metadata": {},
     "output_type": "execute_result"
    }
   ],
   "source": [
    "model.fit(x_train, y_train)"
   ]
  },
  {
   "cell_type": "code",
   "execution_count": 37,
   "id": "0bf9a7c3",
   "metadata": {},
   "outputs": [],
   "source": [
    "y_predicted=model.predict(x_test)"
   ]
  },
  {
   "cell_type": "code",
   "execution_count": 38,
   "id": "be0a744d",
   "metadata": {},
   "outputs": [
    {
     "data": {
      "text/plain": [
       "0.9171490528424944"
      ]
     },
     "execution_count": 38,
     "metadata": {},
     "output_type": "execute_result"
    }
   ],
   "source": [
    "model.score(x_test, y_test)"
   ]
  },
  {
   "cell_type": "code",
   "execution_count": 39,
   "id": "3f25c2d5",
   "metadata": {},
   "outputs": [],
   "source": [
    "#plt.scatter(x_test,y_predicted)\n",
    "#plt.scatter(x_test,y_test)"
   ]
  },
  {
   "cell_type": "code",
   "execution_count": 40,
   "id": "233617fb",
   "metadata": {},
   "outputs": [
    {
     "data": {
      "text/html": [
       "<div>\n",
       "<style scoped>\n",
       "    .dataframe tbody tr th:only-of-type {\n",
       "        vertical-align: middle;\n",
       "    }\n",
       "\n",
       "    .dataframe tbody tr th {\n",
       "        vertical-align: top;\n",
       "    }\n",
       "\n",
       "    .dataframe thead th {\n",
       "        text-align: right;\n",
       "    }\n",
       "</style>\n",
       "<table border=\"1\" class=\"dataframe\">\n",
       "  <thead>\n",
       "    <tr style=\"text-align: right;\">\n",
       "      <th></th>\n",
       "      <th>iso_code</th>\n",
       "      <th>continent</th>\n",
       "      <th>location</th>\n",
       "      <th>Number of Days from First case</th>\n",
       "      <th>date</th>\n",
       "      <th>total_cases</th>\n",
       "      <th>new_cases</th>\n",
       "      <th>total_deaths</th>\n",
       "      <th>new_deaths</th>\n",
       "    </tr>\n",
       "  </thead>\n",
       "  <tbody>\n",
       "    <tr>\n",
       "      <th>0</th>\n",
       "      <td>IND</td>\n",
       "      <td>Asia</td>\n",
       "      <td>India</td>\n",
       "      <td>703</td>\n",
       "      <td>2022-01-01</td>\n",
       "      <td>34889132</td>\n",
       "      <td>27553</td>\n",
       "      <td>481770</td>\n",
       "      <td>284</td>\n",
       "    </tr>\n",
       "    <tr>\n",
       "      <th>1</th>\n",
       "      <td>IND</td>\n",
       "      <td>Asia</td>\n",
       "      <td>India</td>\n",
       "      <td>704</td>\n",
       "      <td>2022-01-02</td>\n",
       "      <td>34922882</td>\n",
       "      <td>33750</td>\n",
       "      <td>481893</td>\n",
       "      <td>123</td>\n",
       "    </tr>\n",
       "    <tr>\n",
       "      <th>2</th>\n",
       "      <td>IND</td>\n",
       "      <td>Asia</td>\n",
       "      <td>India</td>\n",
       "      <td>705</td>\n",
       "      <td>2022-01-03</td>\n",
       "      <td>34960261</td>\n",
       "      <td>37379</td>\n",
       "      <td>482017</td>\n",
       "      <td>124</td>\n",
       "    </tr>\n",
       "    <tr>\n",
       "      <th>3</th>\n",
       "      <td>IND</td>\n",
       "      <td>Asia</td>\n",
       "      <td>India</td>\n",
       "      <td>706</td>\n",
       "      <td>2022-01-04</td>\n",
       "      <td>35018358</td>\n",
       "      <td>58097</td>\n",
       "      <td>482551</td>\n",
       "      <td>534</td>\n",
       "    </tr>\n",
       "    <tr>\n",
       "      <th>4</th>\n",
       "      <td>IND</td>\n",
       "      <td>Asia</td>\n",
       "      <td>India</td>\n",
       "      <td>707</td>\n",
       "      <td>2022-01-05</td>\n",
       "      <td>35109286</td>\n",
       "      <td>90928</td>\n",
       "      <td>482876</td>\n",
       "      <td>325</td>\n",
       "    </tr>\n",
       "  </tbody>\n",
       "</table>\n",
       "</div>"
      ],
      "text/plain": [
       "  iso_code continent location  Number of Days from First case       date  \\\n",
       "0      IND      Asia    India                             703 2022-01-01   \n",
       "1      IND      Asia    India                             704 2022-01-02   \n",
       "2      IND      Asia    India                             705 2022-01-03   \n",
       "3      IND      Asia    India                             706 2022-01-04   \n",
       "4      IND      Asia    India                             707 2022-01-05   \n",
       "\n",
       "   total_cases  new_cases  total_deaths  new_deaths  \n",
       "0     34889132      27553        481770         284  \n",
       "1     34922882      33750        481893         123  \n",
       "2     34960261      37379        482017         124  \n",
       "3     35018358      58097        482551         534  \n",
       "4     35109286      90928        482876         325  "
      ]
     },
     "execution_count": 40,
     "metadata": {},
     "output_type": "execute_result"
    }
   ],
   "source": [
    "df=pd.read_excel(\"india covid data test.xlsx\")\n",
    "df.head()"
   ]
  },
  {
   "cell_type": "code",
   "execution_count": 41,
   "id": "dc793414",
   "metadata": {},
   "outputs": [],
   "source": [
    "X=df[['Number of Days from First case','total_deaths']].values\n",
    "#.reshape(-1,1)\n",
    "y=df['total_cases'].values"
   ]
  },
  {
   "cell_type": "code",
   "execution_count": 42,
   "id": "e5fa9932",
   "metadata": {},
   "outputs": [],
   "source": [
    "y_pred=model.predict(X)"
   ]
  },
  {
   "cell_type": "code",
   "execution_count": 49,
   "id": "49a284b8",
   "metadata": {},
   "outputs": [
    {
     "data": {
      "text/plain": [
       "[<matplotlib.lines.Line2D at 0x28542be5070>]"
      ]
     },
     "execution_count": 49,
     "metadata": {},
     "output_type": "execute_result"
    },
    {
     "data": {
      "image/png": "[encoded data removed]",
      "text/plain": [
       "<Figure size 432x288 with 1 Axes>"
      ]
     },
     "metadata": {
      "needs_background": "light"
     },
     "output_type": "display_data"
    }
   ],
   "source": [
    "#plt.plot(df['Number of Days from First case'],df['total_cases'])\n",
    "plt.plot(df['Number of Days from First case'],y_pred)"
   ]
  },
  {
   "cell_type": "code",
   "execution_count": 44,
   "id": "0454aa79",
   "metadata": {},
   "outputs": [
    {
     "data": {
      "text/plain": [
       "0.8780192851877762"
      ]
     },
     "execution_count": 44,
     "metadata": {},
     "output_type": "execute_result"
    }
   ],
   "source": [
    "model.score(X,y)"
   ]
  },
  {
   "cell_type": "code",
   "execution_count": 45,
   "id": "ab9e65fa",
   "metadata": {},
   "outputs": [
    {
     "data": {
      "text/plain": [
       "array([36897742.5713684 , 36874197.64996862, 36850960.98105818,\n",
       "       36954107.83277798, 36992829.9142253 , 37024462.18841773,\n",
       "       37050854.17029136, 37090192.75671734, 37073737.64257243,\n",
       "       37097663.60453132, 37172451.22723165, 37228127.19559279,\n",
       "       37293358.9911235 , 37326224.27527329, 37361555.57933785,\n",
       "       37418772.81014571, 37452871.10425287, 37527350.47446387,\n",
       "       37617242.46914196, 37772483.99156055, 37861451.2287706 ,\n",
       "       37961823.80808634, 38035686.67331862, 38163493.72418576,\n",
       "       38307021.65200938, 38422190.35081354, 38554004.68404213,\n",
       "       38761032.62467019, 38974842.12006378, 39208996.27975392,\n",
       "       39514973.26946078, 39987714.85590169, 40236973.38756961,\n",
       "       40505960.07855541, 40770939.48717982, 40976117.91287181,\n",
       "       41190543.91324407, 41495287.89299355, 41808971.19493398,\n",
       "       42130052.55661857, 42271114.46452744, 42457489.48836961,\n",
       "       42606874.21349069, 42652069.59721421, 42697573.23342705,\n",
       "       42794555.03535998, 42899859.65450516, 42990059.90167259,\n",
       "       43028781.9831199 , 43174775.93085825, 43176815.96607386,\n",
       "       43187795.3234804 , 43212029.53792861, 43243661.81212105,\n",
       "       43275294.08631352, 43292438.49350688, 43305883.87082812,\n",
       "       43281105.93947101, 43275131.4099637 , 43282411.7374981 ,\n",
       "       43264723.61339583, 43265222.38616472, 43292847.37799573,\n",
       "       43280091.29372291, 43238975.98043063, 43210807.27169073,\n",
       "       43194043.90505645, 43164642.1863592 , 43181786.59355256,\n",
       "       43147761.08751515, 43100788.97692536, 43047651.81654873,\n",
       "       43016092.33042607, 42984841.09679274, 42941876.2685644 ,\n",
       "       42926345.91188753, 42886771.86104195, 42864459.94959953,\n",
       "       42812555.79918027, 42761268.15373972, 42718919.83049007,\n",
       "       42678112.76968715, 42642237.74871367, 43844612.97742717,\n",
       "       43829082.62075028, 43777178.47033104, 43726507.32986917,\n",
       "       43674603.17944992, 43621774.27156264, 43576343.42341956,\n",
       "       43540468.40244612, 43503976.87649396, 43446524.18126655,\n",
       "       43402942.84805952, 43363368.79721397, 43315163.6766668 ,\n",
       "       43266958.55611967, 43231083.53514621, 43178562.87974826,\n",
       "       43118952.41709547, 43063349.23680413, 43009903.82393816,\n",
       "       42948752.09883863, 42889141.63618584, 42828914.66855437,\n",
       "       42768687.70092288, 42773193.75605322, 42712042.03095371,\n",
       "       42662912.15293851])"
      ]
     },
     "execution_count": 45,
     "metadata": {},
     "output_type": "execute_result"
    }
   ],
   "source": [
    "y_pred"
   ]
  },
  {
   "cell_type": "code",
   "execution_count": null,
   "id": "99b8186a",
   "metadata": {},
   "outputs": [],
   "source": []
  },
  {
   "cell_type": "code",
   "execution_count": null,
   "id": "a82c8bf5",
   "metadata": {},
   "outputs": [],
   "source": []
  }
 ],
 "metadata": {
  "kernelspec": {
   "display_name": "Python 3 (ipykernel)",
   "language": "python",
   "name": "python3"
  },
  "language_info": {
   "codemirror_mode": {
    "name": "ipython",
    "version": 3
   },
   "file_extension": ".py",
   "mimetype": "text/x-python",
   "name": "python",
   "nbconvert_exporter": "python",
   "pygments_lexer": "ipython3",
   "version": "3.8.8"
  }
 },
 "nbformat": 4,
 "nbformat_minor": 5
}
